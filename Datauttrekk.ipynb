{
 "cells": [
  {
   "cell_type": "markdown",
   "metadata": {},
   "source": [
    "### Henter ut relevant data fra nedlastet csv og lagrer som ny csv"
   ]
  },
  {
   "cell_type": "code",
   "execution_count": 1,
   "metadata": {},
   "outputs": [
    {
     "name": "stderr",
     "output_type": "stream",
     "text": [
      "/Users/oyvindlovoldbusk/anaconda/lib/python2.7/site-packages/IPython/core/interactiveshell.py:2902: DtypeWarning: Columns (8,13) have mixed types. Specify dtype option on import or set low_memory=False.\n",
      "  interactivity=interactivity, compiler=compiler, result=result)\n"
     ]
    }
   ],
   "source": [
    "import pandas as pd\n",
    "data = pd.read_csv('1512623690_hour_20181214T0000_20201215T0000.csv', index_col='Fra', parse_dates=True , sep=\";\")"
   ]
  },
  {
   "cell_type": "code",
   "execution_count": 8,
   "metadata": {},
   "outputs": [],
   "source": [
    "# Hent ut kun myren og moflata\n",
    "df = data[(data['Felt'] == \"Totalt i retning Moflata\") | (data['Felt'] == \"Totalt i retning Myren\")]\n",
    "df.replace(\"Totalt i retning Moflata\",\"Moflata\", inplace=True)\n",
    "df.replace(\"Totalt i retning Myren\",\"Myren\", inplace=True)\n",
    "df.replace(\"-\", \"0\", inplace=True)\n",
    "df = df[['Volum','Felt']]\n",
    "df['Volum'] = df['Volum'].astype(int)\n"
   ]
  },
  {
   "cell_type": "code",
   "execution_count": 9,
   "metadata": {},
   "outputs": [
    {
     "data": {
      "text/html": [
       "<div>\n",
       "<style scoped>\n",
       "    .dataframe tbody tr th:only-of-type {\n",
       "        vertical-align: middle;\n",
       "    }\n",
       "\n",
       "    .dataframe tbody tr th {\n",
       "        vertical-align: top;\n",
       "    }\n",
       "\n",
       "    .dataframe thead th {\n",
       "        text-align: right;\n",
       "    }\n",
       "</style>\n",
       "<table border=\"1\" class=\"dataframe\">\n",
       "  <thead>\n",
       "    <tr style=\"text-align: right;\">\n",
       "      <th></th>\n",
       "      <th>Volum</th>\n",
       "      <th>Felt</th>\n",
       "    </tr>\n",
       "    <tr>\n",
       "      <th>Fra</th>\n",
       "      <th></th>\n",
       "      <th></th>\n",
       "    </tr>\n",
       "  </thead>\n",
       "  <tbody>\n",
       "    <tr>\n",
       "      <th>2018-12-13 23:00:00</th>\n",
       "      <td>0</td>\n",
       "      <td>Moflata</td>\n",
       "    </tr>\n",
       "    <tr>\n",
       "      <th>2018-12-13 23:00:00</th>\n",
       "      <td>0</td>\n",
       "      <td>Myren</td>\n",
       "    </tr>\n",
       "    <tr>\n",
       "      <th>2018-12-14 00:00:00</th>\n",
       "      <td>0</td>\n",
       "      <td>Moflata</td>\n",
       "    </tr>\n",
       "    <tr>\n",
       "      <th>2018-12-14 00:00:00</th>\n",
       "      <td>0</td>\n",
       "      <td>Myren</td>\n",
       "    </tr>\n",
       "    <tr>\n",
       "      <th>2018-12-14 01:00:00</th>\n",
       "      <td>0</td>\n",
       "      <td>Moflata</td>\n",
       "    </tr>\n",
       "  </tbody>\n",
       "</table>\n",
       "</div>"
      ],
      "text/plain": [
       "                     Volum     Felt\n",
       "Fra                                \n",
       "2018-12-13 23:00:00      0  Moflata\n",
       "2018-12-13 23:00:00      0    Myren\n",
       "2018-12-14 00:00:00      0  Moflata\n",
       "2018-12-14 00:00:00      0    Myren\n",
       "2018-12-14 01:00:00      0  Moflata"
      ]
     },
     "execution_count": 9,
     "metadata": {},
     "output_type": "execute_result"
    }
   ],
   "source": [
    "df.head()"
   ]
  },
  {
   "cell_type": "code",
   "execution_count": 13,
   "metadata": {},
   "outputs": [],
   "source": [
    "# Pivot i hver sin kolonne\n",
    "p_df = df.pivot_table(values='Volum', index=['Fra'], columns='Felt').astype(int)\n",
    "\n"
   ]
  },
  {
   "cell_type": "code",
   "execution_count": null,
   "metadata": {},
   "outputs": [],
   "source": []
  },
  {
   "cell_type": "code",
   "execution_count": 14,
   "metadata": {},
   "outputs": [],
   "source": [
    "# Lagre som CSV\n",
    "p_df.to_csv('./elstrom.csv')"
   ]
  },
  {
   "cell_type": "code",
   "execution_count": null,
   "metadata": {},
   "outputs": [],
   "source": []
  }
 ],
 "metadata": {
  "kernelspec": {
   "display_name": "Python 2",
   "language": "python",
   "name": "python2"
  },
  "language_info": {
   "codemirror_mode": {
    "name": "ipython",
    "version": 2
   },
   "file_extension": ".py",
   "mimetype": "text/x-python",
   "name": "python",
   "nbconvert_exporter": "python",
   "pygments_lexer": "ipython2",
   "version": "2.7.9"
  }
 },
 "nbformat": 4,
 "nbformat_minor": 2
}
